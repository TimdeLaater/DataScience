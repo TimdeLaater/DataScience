{
 "cells": [
  {
   "cell_type": "markdown",
   "id": "66248e43-bbb7-48ae-b824-7083c938fb4a",
   "metadata": {},
   "source": [
    "## Portfolio assignment 12\n",
    "30 min: Perform a bivariate analysis on at least 3 combinations of a numerical column with a categorical column in the dataset that you chose in portfolio assignment 4. Use .groupby('columnname').mean() to calculate the means. Is there a difference between categories? Then use seaborn barplots to check if there is a statistically significant difference."
   ]
  },
  {
   "cell_type": "code",
   "execution_count": 1,
   "id": "2d0b47a9",
   "metadata": {},
   "outputs": [],
   "source": [
    "import pandas as pd\n",
    "import seaborn as sns"
   ]
  },
  {
   "cell_type": "code",
   "execution_count": 2,
   "id": "45eca36d",
   "metadata": {},
   "outputs": [],
   "source": [
    "penguins = sns.load_dataset(\"penguins\")\n",
    "PremStats = pd.read_csv(\"../data/EPL_20_21.csv\")"
   ]
  },
  {
   "cell_type": "code",
   "execution_count": 3,
   "id": "6363d65f-41aa-46d7-8182-ce244e2f286f",
   "metadata": {},
   "outputs": [
    {
     "data": {
      "text/html": [
       "<div>\n",
       "<style scoped>\n",
       "    .dataframe tbody tr th:only-of-type {\n",
       "        vertical-align: middle;\n",
       "    }\n",
       "\n",
       "    .dataframe tbody tr th {\n",
       "        vertical-align: top;\n",
       "    }\n",
       "\n",
       "    .dataframe thead th {\n",
       "        text-align: right;\n",
       "    }\n",
       "</style>\n",
       "<table border=\"1\" class=\"dataframe\">\n",
       "  <thead>\n",
       "    <tr style=\"text-align: right;\">\n",
       "      <th></th>\n",
       "      <th>Name</th>\n",
       "      <th>Club</th>\n",
       "      <th>Nationality</th>\n",
       "      <th>Position</th>\n",
       "      <th>Age</th>\n",
       "      <th>Matches</th>\n",
       "      <th>Starts</th>\n",
       "      <th>Mins</th>\n",
       "      <th>Goals</th>\n",
       "      <th>Assists</th>\n",
       "      <th>Passes_Attempted</th>\n",
       "      <th>Perc_Passes_Completed</th>\n",
       "      <th>Penalty_Goals</th>\n",
       "      <th>Penalty_Attempted</th>\n",
       "      <th>xG</th>\n",
       "      <th>xA</th>\n",
       "      <th>Yellow_Cards</th>\n",
       "      <th>Red_Cards</th>\n",
       "    </tr>\n",
       "  </thead>\n",
       "  <tbody>\n",
       "    <tr>\n",
       "      <th>0</th>\n",
       "      <td>Mason Mount</td>\n",
       "      <td>Chelsea</td>\n",
       "      <td>ENG</td>\n",
       "      <td>MF</td>\n",
       "      <td>21</td>\n",
       "      <td>36</td>\n",
       "      <td>32</td>\n",
       "      <td>2890</td>\n",
       "      <td>6</td>\n",
       "      <td>5</td>\n",
       "      <td>1881</td>\n",
       "      <td>82.3</td>\n",
       "      <td>1</td>\n",
       "      <td>1</td>\n",
       "      <td>0.21</td>\n",
       "      <td>0.24</td>\n",
       "      <td>2</td>\n",
       "      <td>0</td>\n",
       "    </tr>\n",
       "    <tr>\n",
       "      <th>1</th>\n",
       "      <td>Edouard Mendy</td>\n",
       "      <td>Chelsea</td>\n",
       "      <td>SEN</td>\n",
       "      <td>GK</td>\n",
       "      <td>28</td>\n",
       "      <td>31</td>\n",
       "      <td>31</td>\n",
       "      <td>2745</td>\n",
       "      <td>0</td>\n",
       "      <td>0</td>\n",
       "      <td>1007</td>\n",
       "      <td>84.6</td>\n",
       "      <td>0</td>\n",
       "      <td>0</td>\n",
       "      <td>0.00</td>\n",
       "      <td>0.00</td>\n",
       "      <td>2</td>\n",
       "      <td>0</td>\n",
       "    </tr>\n",
       "    <tr>\n",
       "      <th>2</th>\n",
       "      <td>Timo Werner</td>\n",
       "      <td>Chelsea</td>\n",
       "      <td>GER</td>\n",
       "      <td>FW</td>\n",
       "      <td>24</td>\n",
       "      <td>35</td>\n",
       "      <td>29</td>\n",
       "      <td>2602</td>\n",
       "      <td>6</td>\n",
       "      <td>8</td>\n",
       "      <td>826</td>\n",
       "      <td>77.2</td>\n",
       "      <td>0</td>\n",
       "      <td>0</td>\n",
       "      <td>0.41</td>\n",
       "      <td>0.21</td>\n",
       "      <td>2</td>\n",
       "      <td>0</td>\n",
       "    </tr>\n",
       "    <tr>\n",
       "      <th>3</th>\n",
       "      <td>Ben Chilwell</td>\n",
       "      <td>Chelsea</td>\n",
       "      <td>ENG</td>\n",
       "      <td>DF</td>\n",
       "      <td>23</td>\n",
       "      <td>27</td>\n",
       "      <td>27</td>\n",
       "      <td>2286</td>\n",
       "      <td>3</td>\n",
       "      <td>5</td>\n",
       "      <td>1806</td>\n",
       "      <td>78.6</td>\n",
       "      <td>0</td>\n",
       "      <td>0</td>\n",
       "      <td>0.10</td>\n",
       "      <td>0.11</td>\n",
       "      <td>3</td>\n",
       "      <td>0</td>\n",
       "    </tr>\n",
       "    <tr>\n",
       "      <th>4</th>\n",
       "      <td>Reece James</td>\n",
       "      <td>Chelsea</td>\n",
       "      <td>ENG</td>\n",
       "      <td>DF</td>\n",
       "      <td>20</td>\n",
       "      <td>32</td>\n",
       "      <td>25</td>\n",
       "      <td>2373</td>\n",
       "      <td>1</td>\n",
       "      <td>2</td>\n",
       "      <td>1987</td>\n",
       "      <td>85.0</td>\n",
       "      <td>0</td>\n",
       "      <td>0</td>\n",
       "      <td>0.06</td>\n",
       "      <td>0.12</td>\n",
       "      <td>3</td>\n",
       "      <td>0</td>\n",
       "    </tr>\n",
       "  </tbody>\n",
       "</table>\n",
       "</div>"
      ],
      "text/plain": [
       "            Name     Club Nationality Position  Age  Matches  Starts  Mins  \\\n",
       "0    Mason Mount  Chelsea         ENG       MF   21       36      32  2890   \n",
       "1  Edouard Mendy  Chelsea         SEN       GK   28       31      31  2745   \n",
       "2    Timo Werner  Chelsea         GER       FW   24       35      29  2602   \n",
       "3   Ben Chilwell  Chelsea         ENG       DF   23       27      27  2286   \n",
       "4    Reece James  Chelsea         ENG       DF   20       32      25  2373   \n",
       "\n",
       "   Goals  Assists  Passes_Attempted  Perc_Passes_Completed  Penalty_Goals  \\\n",
       "0      6        5              1881                   82.3              1   \n",
       "1      0        0              1007                   84.6              0   \n",
       "2      6        8               826                   77.2              0   \n",
       "3      3        5              1806                   78.6              0   \n",
       "4      1        2              1987                   85.0              0   \n",
       "\n",
       "   Penalty_Attempted    xG    xA  Yellow_Cards  Red_Cards  \n",
       "0                  1  0.21  0.24             2          0  \n",
       "1                  0  0.00  0.00             2          0  \n",
       "2                  0  0.41  0.21             2          0  \n",
       "3                  0  0.10  0.11             3          0  \n",
       "4                  0  0.06  0.12             3          0  "
      ]
     },
     "execution_count": 3,
     "metadata": {},
     "output_type": "execute_result"
    }
   ],
   "source": [
    "\n",
    "PremStats['Position'] = PremStats['Position'].replace(['MF,DF', 'MF,FW'],'MF')\n",
    "PremStats['Position'] = PremStats['Position'].replace(['FW,MF', 'FW,DF'],'FW')\n",
    "PremStats['Position'] = PremStats['Position'].replace(['DF,MF', 'DF,FW'],'DF')\n",
    "PremStats.head()"
   ]
  },
  {
   "cell_type": "markdown",
   "id": "e9562627-a474-4f4b-8615-e7b88031e862",
   "metadata": {},
   "source": [
    "Ik heb hier boven de posities aangepast om deze representatiever te maken en dus hun primaire positie te nemen i.p.v meerderen"
   ]
  },
  {
   "cell_type": "code",
   "execution_count": 4,
   "id": "6b4db559-4df2-457f-a198-41c5dbdf138e",
   "metadata": {},
   "outputs": [
    {
     "data": {
      "text/html": [
       "<div>\n",
       "<style scoped>\n",
       "    .dataframe tbody tr th:only-of-type {\n",
       "        vertical-align: middle;\n",
       "    }\n",
       "\n",
       "    .dataframe tbody tr th {\n",
       "        vertical-align: top;\n",
       "    }\n",
       "\n",
       "    .dataframe thead th {\n",
       "        text-align: right;\n",
       "    }\n",
       "</style>\n",
       "<table border=\"1\" class=\"dataframe\">\n",
       "  <thead>\n",
       "    <tr style=\"text-align: right;\">\n",
       "      <th></th>\n",
       "      <th>Age</th>\n",
       "      <th>Matches</th>\n",
       "      <th>Starts</th>\n",
       "      <th>Mins</th>\n",
       "      <th>Goals</th>\n",
       "      <th>Assists</th>\n",
       "      <th>Passes_Attempted</th>\n",
       "      <th>Perc_Passes_Completed</th>\n",
       "      <th>Penalty_Goals</th>\n",
       "      <th>Penalty_Attempted</th>\n",
       "      <th>xG</th>\n",
       "      <th>xA</th>\n",
       "      <th>Yellow_Cards</th>\n",
       "      <th>Red_Cards</th>\n",
       "    </tr>\n",
       "    <tr>\n",
       "      <th>Position</th>\n",
       "      <th></th>\n",
       "      <th></th>\n",
       "      <th></th>\n",
       "      <th></th>\n",
       "      <th></th>\n",
       "      <th></th>\n",
       "      <th></th>\n",
       "      <th></th>\n",
       "      <th></th>\n",
       "      <th></th>\n",
       "      <th></th>\n",
       "      <th></th>\n",
       "      <th></th>\n",
       "      <th></th>\n",
       "    </tr>\n",
       "  </thead>\n",
       "  <tbody>\n",
       "    <tr>\n",
       "      <th>DF</th>\n",
       "      <td>25.713568</td>\n",
       "      <td>18.236181</td>\n",
       "      <td>16.467337</td>\n",
       "      <td>1473.723618</td>\n",
       "      <td>0.718593</td>\n",
       "      <td>0.783920</td>\n",
       "      <td>890.814070</td>\n",
       "      <td>80.262312</td>\n",
       "      <td>0.005025</td>\n",
       "      <td>0.005025</td>\n",
       "      <td>0.045075</td>\n",
       "      <td>0.041658</td>\n",
       "      <td>2.452261</td>\n",
       "      <td>0.135678</td>\n",
       "    </tr>\n",
       "    <tr>\n",
       "      <th>FW</th>\n",
       "      <td>24.858209</td>\n",
       "      <td>19.895522</td>\n",
       "      <td>13.455224</td>\n",
       "      <td>1223.455224</td>\n",
       "      <td>4.283582</td>\n",
       "      <td>2.082090</td>\n",
       "      <td>409.141791</td>\n",
       "      <td>73.325373</td>\n",
       "      <td>0.417910</td>\n",
       "      <td>0.492537</td>\n",
       "      <td>0.263657</td>\n",
       "      <td>0.121269</td>\n",
       "      <td>1.298507</td>\n",
       "      <td>0.067164</td>\n",
       "    </tr>\n",
       "    <tr>\n",
       "      <th>GK</th>\n",
       "      <td>28.190476</td>\n",
       "      <td>18.214286</td>\n",
       "      <td>18.095238</td>\n",
       "      <td>1628.500000</td>\n",
       "      <td>0.023810</td>\n",
       "      <td>0.047619</td>\n",
       "      <td>568.547619</td>\n",
       "      <td>69.119048</td>\n",
       "      <td>0.000000</td>\n",
       "      <td>0.000000</td>\n",
       "      <td>0.000000</td>\n",
       "      <td>0.001905</td>\n",
       "      <td>0.738095</td>\n",
       "      <td>0.023810</td>\n",
       "    </tr>\n",
       "    <tr>\n",
       "      <th>MF</th>\n",
       "      <td>25.057325</td>\n",
       "      <td>21.229299</td>\n",
       "      <td>16.050955</td>\n",
       "      <td>1434.885350</td>\n",
       "      <td>1.707006</td>\n",
       "      <td>1.579618</td>\n",
       "      <td>801.700637</td>\n",
       "      <td>80.901274</td>\n",
       "      <td>0.286624</td>\n",
       "      <td>0.369427</td>\n",
       "      <td>0.101720</td>\n",
       "      <td>0.089363</td>\n",
       "      <td>2.751592</td>\n",
       "      <td>0.070064</td>\n",
       "    </tr>\n",
       "  </tbody>\n",
       "</table>\n",
       "</div>"
      ],
      "text/plain": [
       "                Age    Matches     Starts         Mins     Goals   Assists  \\\n",
       "Position                                                                     \n",
       "DF        25.713568  18.236181  16.467337  1473.723618  0.718593  0.783920   \n",
       "FW        24.858209  19.895522  13.455224  1223.455224  4.283582  2.082090   \n",
       "GK        28.190476  18.214286  18.095238  1628.500000  0.023810  0.047619   \n",
       "MF        25.057325  21.229299  16.050955  1434.885350  1.707006  1.579618   \n",
       "\n",
       "          Passes_Attempted  Perc_Passes_Completed  Penalty_Goals  \\\n",
       "Position                                                           \n",
       "DF              890.814070              80.262312       0.005025   \n",
       "FW              409.141791              73.325373       0.417910   \n",
       "GK              568.547619              69.119048       0.000000   \n",
       "MF              801.700637              80.901274       0.286624   \n",
       "\n",
       "          Penalty_Attempted        xG        xA  Yellow_Cards  Red_Cards  \n",
       "Position                                                                  \n",
       "DF                 0.005025  0.045075  0.041658      2.452261   0.135678  \n",
       "FW                 0.492537  0.263657  0.121269      1.298507   0.067164  \n",
       "GK                 0.000000  0.000000  0.001905      0.738095   0.023810  \n",
       "MF                 0.369427  0.101720  0.089363      2.751592   0.070064  "
      ]
     },
     "execution_count": 4,
     "metadata": {},
     "output_type": "execute_result"
    }
   ],
   "source": [
    "PremStats.groupby(['Position']).mean()\n",
    "    "
   ]
  },
  {
   "cell_type": "code",
   "execution_count": 5,
   "id": "f436ba41-d905-44b2-b89f-227597d17db7",
   "metadata": {
    "scrolled": true
   },
   "outputs": [
    {
     "data": {
      "text/plain": [
       "<AxesSubplot:xlabel='Position', ylabel='Age'>"
      ]
     },
     "execution_count": 5,
     "metadata": {},
     "output_type": "execute_result"
    },
    {
     "data": {
      "image/png": "[encoded data removed]",
      "text/plain": [
       "<Figure size 432x288 with 1 Axes>"
      ]
     },
     "metadata": {
      "needs_background": "light"
     },
     "output_type": "display_data"
    }
   ],
   "source": [
    "sns.barplot(y=\"Age\", x=\"Position\", data=PremStats)"
   ]
  },
  {
   "cell_type": "code",
   "execution_count": 6,
   "id": "2d733943-337b-4c72-934c-c08236938be5",
   "metadata": {
    "scrolled": true
   },
   "outputs": [
    {
     "data": {
      "text/plain": [
       "<AxesSubplot:xlabel='Position', ylabel='Goals'>"
      ]
     },
     "execution_count": 6,
     "metadata": {},
     "output_type": "execute_result"
    },
    {
     "data": {
      "image/png": "[encoded data removed]",
      "text/plain": [
       "<Figure size 432x288 with 1 Axes>"
      ]
     },
     "metadata": {
      "needs_background": "light"
     },
     "output_type": "display_data"
    }
   ],
   "source": [
    "sns.barplot(y=\"Goals\", x=\"Position\", data=PremStats)"
   ]
  },
  {
   "cell_type": "code",
   "execution_count": 7,
   "id": "505a5393-df4f-469d-af1b-2dc982140a0f",
   "metadata": {
    "scrolled": true
   },
   "outputs": [
    {
     "data": {
      "text/plain": [
       "<AxesSubplot:xlabel='Position', ylabel='Yellow_Cards'>"
      ]
     },
     "execution_count": 7,
     "metadata": {},
     "output_type": "execute_result"
    },
    {
     "data": {
      "image/png": "[encoded data removed]",
      "text/plain": [
       "<Figure size 432x288 with 1 Axes>"
      ]
     },
     "metadata": {
      "needs_background": "light"
     },
     "output_type": "display_data"
    }
   ],
   "source": [
    "sns.barplot(y=\"Yellow_Cards\", x=\"Position\", data=PremStats)"
   ]
  },
  {
   "cell_type": "markdown",
   "id": "ea6316a4-b7eb-4b9a-829a-bb752404350b",
   "metadata": {},
   "source": [
    "Bij de leeftijd zie je een licht verschil vooral bij de keepers die redelijk ouder zijn. Verdedigers ook licht maar niet heel veel.\n",
    "\n",
    "De goals is er een duidelijk verschil tussen de aanvallers die er boven uit steken. Middevelders steken ook nog boven de verdedigers uit maar die zakken heel laag met de keepers nog veel lager.\n",
    "\n",
    "Bij de gele kaarten is juist te zien dat middevelders en Verdedigers deze vooral veel hebben en ongeveer het zelfde aantal. Daarnaast een stuk minder kaarten voor aanvallers en keepers."
   ]
  }
 ],
 "metadata": {
  "kernelspec": {
   "display_name": "Python 3 (ipykernel)",
   "language": "python",
   "name": "python3"
  },
  "language_info": {
   "codemirror_mode": {
    "name": "ipython",
    "version": 3
   },
   "file_extension": ".py",
   "mimetype": "text/x-python",
   "name": "python",
   "nbconvert_exporter": "python",
   "pygments_lexer": "ipython3",
   "version": "3.9.7"
  }
 },
 "nbformat": 4,
 "nbformat_minor": 5
}
