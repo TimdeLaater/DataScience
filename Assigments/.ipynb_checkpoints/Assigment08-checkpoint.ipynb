{
 "cells": [
  {
   "cell_type": "code",
   "execution_count": 1,
   "id": "fa409d5f-f634-45ec-80a2-d46993abbec3",
   "metadata": {},
   "outputs": [],
   "source": [
    "import pandas as pd"
   ]
  },
  {
   "cell_type": "code",
   "execution_count": 2,
   "id": "2593be29-4430-4398-89d1-63c8f54e5a29",
   "metadata": {},
   "outputs": [],
   "source": [
    "PremStats = pd.read_csv(\"../data/EPL_20_21.csv\")"
   ]
  },
  {
   "cell_type": "code",
   "execution_count": 3,
   "id": "6f06d45e-c6ae-48cd-863e-bcfae356d929",
   "metadata": {},
   "outputs": [
    {
     "data": {
      "text/html": [
       "<div>\n",
       "<style scoped>\n",
       "    .dataframe tbody tr th:only-of-type {\n",
       "        vertical-align: middle;\n",
       "    }\n",
       "\n",
       "    .dataframe tbody tr th {\n",
       "        vertical-align: top;\n",
       "    }\n",
       "\n",
       "    .dataframe thead th {\n",
       "        text-align: right;\n",
       "    }\n",
       "</style>\n",
       "<table border=\"1\" class=\"dataframe\">\n",
       "  <thead>\n",
       "    <tr style=\"text-align: right;\">\n",
       "      <th></th>\n",
       "      <th>Name</th>\n",
       "      <th>Club</th>\n",
       "      <th>Nationality</th>\n",
       "      <th>Position</th>\n",
       "      <th>Age</th>\n",
       "      <th>Matches</th>\n",
       "      <th>Starts</th>\n",
       "      <th>Mins</th>\n",
       "      <th>Goals</th>\n",
       "      <th>Assists</th>\n",
       "      <th>Passes_Attempted</th>\n",
       "      <th>Perc_Passes_Completed</th>\n",
       "      <th>Penalty_Goals</th>\n",
       "      <th>Penalty_Attempted</th>\n",
       "      <th>xG</th>\n",
       "      <th>xA</th>\n",
       "      <th>Yellow_Cards</th>\n",
       "      <th>Red_Cards</th>\n",
       "    </tr>\n",
       "  </thead>\n",
       "  <tbody>\n",
       "    <tr>\n",
       "      <th>0</th>\n",
       "      <td>Mason Mount</td>\n",
       "      <td>Chelsea</td>\n",
       "      <td>ENG</td>\n",
       "      <td>MF,FW</td>\n",
       "      <td>21</td>\n",
       "      <td>36</td>\n",
       "      <td>32</td>\n",
       "      <td>2890</td>\n",
       "      <td>6</td>\n",
       "      <td>5</td>\n",
       "      <td>1881</td>\n",
       "      <td>82.3</td>\n",
       "      <td>1</td>\n",
       "      <td>1</td>\n",
       "      <td>0.21</td>\n",
       "      <td>0.24</td>\n",
       "      <td>2</td>\n",
       "      <td>0</td>\n",
       "    </tr>\n",
       "    <tr>\n",
       "      <th>1</th>\n",
       "      <td>Edouard Mendy</td>\n",
       "      <td>Chelsea</td>\n",
       "      <td>SEN</td>\n",
       "      <td>GK</td>\n",
       "      <td>28</td>\n",
       "      <td>31</td>\n",
       "      <td>31</td>\n",
       "      <td>2745</td>\n",
       "      <td>0</td>\n",
       "      <td>0</td>\n",
       "      <td>1007</td>\n",
       "      <td>84.6</td>\n",
       "      <td>0</td>\n",
       "      <td>0</td>\n",
       "      <td>0.00</td>\n",
       "      <td>0.00</td>\n",
       "      <td>2</td>\n",
       "      <td>0</td>\n",
       "    </tr>\n",
       "    <tr>\n",
       "      <th>2</th>\n",
       "      <td>Timo Werner</td>\n",
       "      <td>Chelsea</td>\n",
       "      <td>GER</td>\n",
       "      <td>FW</td>\n",
       "      <td>24</td>\n",
       "      <td>35</td>\n",
       "      <td>29</td>\n",
       "      <td>2602</td>\n",
       "      <td>6</td>\n",
       "      <td>8</td>\n",
       "      <td>826</td>\n",
       "      <td>77.2</td>\n",
       "      <td>0</td>\n",
       "      <td>0</td>\n",
       "      <td>0.41</td>\n",
       "      <td>0.21</td>\n",
       "      <td>2</td>\n",
       "      <td>0</td>\n",
       "    </tr>\n",
       "    <tr>\n",
       "      <th>3</th>\n",
       "      <td>Ben Chilwell</td>\n",
       "      <td>Chelsea</td>\n",
       "      <td>ENG</td>\n",
       "      <td>DF</td>\n",
       "      <td>23</td>\n",
       "      <td>27</td>\n",
       "      <td>27</td>\n",
       "      <td>2286</td>\n",
       "      <td>3</td>\n",
       "      <td>5</td>\n",
       "      <td>1806</td>\n",
       "      <td>78.6</td>\n",
       "      <td>0</td>\n",
       "      <td>0</td>\n",
       "      <td>0.10</td>\n",
       "      <td>0.11</td>\n",
       "      <td>3</td>\n",
       "      <td>0</td>\n",
       "    </tr>\n",
       "    <tr>\n",
       "      <th>4</th>\n",
       "      <td>Reece James</td>\n",
       "      <td>Chelsea</td>\n",
       "      <td>ENG</td>\n",
       "      <td>DF</td>\n",
       "      <td>20</td>\n",
       "      <td>32</td>\n",
       "      <td>25</td>\n",
       "      <td>2373</td>\n",
       "      <td>1</td>\n",
       "      <td>2</td>\n",
       "      <td>1987</td>\n",
       "      <td>85.0</td>\n",
       "      <td>0</td>\n",
       "      <td>0</td>\n",
       "      <td>0.06</td>\n",
       "      <td>0.12</td>\n",
       "      <td>3</td>\n",
       "      <td>0</td>\n",
       "    </tr>\n",
       "  </tbody>\n",
       "</table>\n",
       "</div>"
      ],
      "text/plain": [
       "            Name     Club Nationality Position  Age  Matches  Starts  Mins  \\\n",
       "0    Mason Mount  Chelsea         ENG    MF,FW   21       36      32  2890   \n",
       "1  Edouard Mendy  Chelsea         SEN       GK   28       31      31  2745   \n",
       "2    Timo Werner  Chelsea         GER       FW   24       35      29  2602   \n",
       "3   Ben Chilwell  Chelsea         ENG       DF   23       27      27  2286   \n",
       "4    Reece James  Chelsea         ENG       DF   20       32      25  2373   \n",
       "\n",
       "   Goals  Assists  Passes_Attempted  Perc_Passes_Completed  Penalty_Goals  \\\n",
       "0      6        5              1881                   82.3              1   \n",
       "1      0        0              1007                   84.6              0   \n",
       "2      6        8               826                   77.2              0   \n",
       "3      3        5              1806                   78.6              0   \n",
       "4      1        2              1987                   85.0              0   \n",
       "\n",
       "   Penalty_Attempted    xG    xA  Yellow_Cards  Red_Cards  \n",
       "0                  1  0.21  0.24             2          0  \n",
       "1                  0  0.00  0.00             2          0  \n",
       "2                  0  0.41  0.21             2          0  \n",
       "3                  0  0.10  0.11             3          0  \n",
       "4                  0  0.06  0.12             3          0  "
      ]
     },
     "execution_count": 3,
     "metadata": {},
     "output_type": "execute_result"
    }
   ],
   "source": [
    "PremStats.head()"
   ]
  },
  {
   "cell_type": "markdown",
   "id": "6d941b65-1de9-442f-a34e-4680ffbc743b",
   "metadata": {},
   "source": [
    "### Portfolio assignment 8\n",
    "15 min: \n",
    "- Calculate the 90%, 95%, 99% and 99.99% confidence interval for at least 2 columns with numerical data in the dataset that you chose in portfolio assignment 4. Do you see the impact the confidence has on the interval?\n",
    "- Now calculate the 95% confidence interval again but use only the first 10% of your rows. Compare this interval to the previous 95% confidence interval you calculated. Do you see the impact of having less data?"
   ]
  },
  {
   "cell_type": "code",
   "execution_count": 4,
   "id": "6b8cf921-4758-4db5-889d-20d582200b8a",
   "metadata": {},
   "outputs": [
    {
     "data": {
      "text/plain": [
       "(25.19143006886707, 25.80856993113293)"
      ]
     },
     "execution_count": 4,
     "metadata": {},
     "output_type": "execute_result"
    }
   ],
   "source": [
    "import scipy.stats as st\n",
    "confidence = 0.90\n",
    "st.t.interval(confidence, len(PremStats)-1, loc=PremStats['Age'].mean(), scale=st.sem(PremStats['Age']))"
   ]
  },
  {
   "cell_type": "code",
   "execution_count": 5,
   "id": "23e0cf22-9bdb-4c99-a5ce-27a854bd106e",
   "metadata": {},
   "outputs": [
    {
     "data": {
      "text/plain": [
       "(25.13211920216539, 25.86788079783461)"
      ]
     },
     "execution_count": 5,
     "metadata": {},
     "output_type": "execute_result"
    }
   ],
   "source": [
    "\n",
    "confidence = 0.95\n",
    "st.t.interval(confidence, len(PremStats)-1, loc=PremStats['Age'].mean(), scale=st.sem(PremStats['Age']))"
   ]
  },
  {
   "cell_type": "code",
   "execution_count": 6,
   "id": "b5ccffae-6c89-4c1c-b76a-8a8c0b14367d",
   "metadata": {},
   "outputs": [
    {
     "data": {
      "text/plain": [
       "(25.015884853108858, 25.984115146891142)"
      ]
     },
     "execution_count": 6,
     "metadata": {},
     "output_type": "execute_result"
    }
   ],
   "source": [
    "\n",
    "confidence = 0.99\n",
    "st.t.interval(confidence, len(PremStats)-1, loc=PremStats['Age'].mean(), scale=st.sem(PremStats['Age']))"
   ]
  },
  {
   "cell_type": "code",
   "execution_count": 7,
   "id": "af6dc4c3-f36f-4210-97e8-0c7ad5122b73",
   "metadata": {},
   "outputs": [
    {
     "data": {
      "text/plain": [
       "(24.664739805736055, 26.335260194263483)"
      ]
     },
     "execution_count": 7,
     "metadata": {},
     "output_type": "execute_result"
    }
   ],
   "source": [
    "\n",
    "confidence = 0.99999\n",
    "st.t.interval(confidence, len(PremStats)-1, loc=PremStats['Age'].mean(), scale=st.sem(PremStats['Age']))"
   ]
  },
  {
   "cell_type": "markdown",
   "id": "0798f105-3df3-494f-9e40-44ce00f5fdb8",
   "metadata": {},
   "source": [
    "### Je kan zien met hoe meer zekerheid je het wilt zeggen hoe groter de range wordt. "
   ]
  },
  {
   "cell_type": "code",
   "execution_count": 8,
   "id": "2fb276e5-c919-44fa-bc16-1972b5f6cdf5",
   "metadata": {},
   "outputs": [
    {
     "data": {
      "text/plain": [
       "(18.689854632664954, 20.381573938763612)"
      ]
     },
     "execution_count": 8,
     "metadata": {},
     "output_type": "execute_result"
    }
   ],
   "source": [
    "import scipy.stats as st\n",
    "confidence = 0.90\n",
    "st.t.interval(confidence, len(PremStats)-1, loc=PremStats['Matches'].mean(), scale=st.sem(PremStats['Matches']))"
   ]
  },
  {
   "cell_type": "code",
   "execution_count": 9,
   "id": "b33c282c-bf17-49fa-9cb9-fa43ff3110eb",
   "metadata": {},
   "outputs": [
    {
     "data": {
      "text/plain": [
       "(18.52727019371415, 20.54415837771442)"
      ]
     },
     "execution_count": 9,
     "metadata": {},
     "output_type": "execute_result"
    }
   ],
   "source": [
    "confidence = 0.95\n",
    "st.t.interval(confidence, len(PremStats)-1, loc=PremStats['Matches'].mean(), scale=st.sem(PremStats['Matches']))"
   ]
  },
  {
   "cell_type": "code",
   "execution_count": 10,
   "id": "7d4bb35a-4e64-4702-8070-8763d38229da",
   "metadata": {},
   "outputs": [
    {
     "data": {
      "text/plain": [
       "(18.20864567380582, 20.86278289762275)"
      ]
     },
     "execution_count": 10,
     "metadata": {},
     "output_type": "execute_result"
    }
   ],
   "source": [
    "confidence = 0.99\n",
    "st.t.interval(confidence, len(PremStats)-1, loc=PremStats['Matches'].mean(), scale=st.sem(PremStats['Matches']))"
   ]
  },
  {
   "cell_type": "code",
   "execution_count": 11,
   "id": "aca6da65-9887-4bce-8480-1cae23d6ea21",
   "metadata": {},
   "outputs": [
    {
     "data": {
      "text/plain": [
       "(17.24607804172894, 21.825350529698362)"
      ]
     },
     "execution_count": 11,
     "metadata": {},
     "output_type": "execute_result"
    }
   ],
   "source": [
    "confidence = 0.99999\n",
    "st.t.interval(confidence, len(PremStats)-1, loc=PremStats['Matches'].mean(), scale=st.sem(PremStats['Matches']))"
   ]
  },
  {
   "cell_type": "markdown",
   "id": "24b24975-3ffa-4186-97d8-53cd2318a819",
   "metadata": {},
   "source": [
    "En nu met de bovenste 10 procent van de dataset"
   ]
  },
  {
   "cell_type": "code",
   "execution_count": 12,
   "id": "eadd8b68-8c2a-4600-8f95-49ed8899b5f1",
   "metadata": {},
   "outputs": [
    {
     "name": "stdout",
     "output_type": "stream",
     "text": [
      "53\n"
     ]
    }
   ],
   "source": [
    "ten_percent = round(len(PremStats)/10)\n",
    "PremTen = PremStats.head(ten_percent)\n",
    "print(len(PremTen))"
   ]
  },
  {
   "cell_type": "code",
   "execution_count": 13,
   "id": "5048975c-c2cf-4e98-9177-c82741eae2af",
   "metadata": {},
   "outputs": [
    {
     "data": {
      "text/plain": [
       "(24.326851482013716, 26.8052239896844)"
      ]
     },
     "execution_count": 13,
     "metadata": {},
     "output_type": "execute_result"
    }
   ],
   "source": [
    "confidence = 0.95\n",
    "st.t.interval(confidence, len(PremTen)-1, loc=PremTen['Age'].mean(), scale=st.sem(PremTen['Age']))"
   ]
  },
  {
   "cell_type": "code",
   "execution_count": 14,
   "id": "921ab254-6372-4114-a727-8c2803023051",
   "metadata": {},
   "outputs": [
    {
     "data": {
      "text/plain": [
       "(17.523826146599358, 23.683721023211962)"
      ]
     },
     "execution_count": 14,
     "metadata": {},
     "output_type": "execute_result"
    }
   ],
   "source": [
    "confidence = 0.95\n",
    "st.t.interval(confidence, len(PremTen)-1, loc=PremTen['Matches'].mean(), scale=st.sem(PremTen['Matches']))"
   ]
  },
  {
   "cell_type": "markdown",
   "id": "12943627-19d5-4eca-b8fb-ceb1ad1e27a4",
   "metadata": {},
   "source": [
    " Er zit best wel een groot verschil tussen het eerste resultaat over de hele dataset en de bovenste 10% ((25.13211920216539, 25.86788079783461) hele dataset)"
   ]
  },
  {
   "cell_type": "markdown",
   "id": "946a6f80-4658-4faf-9c07-1ca42d456b57",
   "metadata": {},
   "source": [
    "En voor matches ook wel een groot verschil ((18.52727019371415, 20.54415837771442)hele dataset)"
   ]
  },
  {
   "cell_type": "code",
   "execution_count": null,
   "id": "300cda7c-129e-47ae-b7b8-1d0fa2c61561",
   "metadata": {},
   "outputs": [],
   "source": []
  }
 ],
 "metadata": {
  "kernelspec": {
   "display_name": "Python 3 (ipykernel)",
   "language": "python",
   "name": "python3"
  },
  "language_info": {
   "codemirror_mode": {
    "name": "ipython",
    "version": 3
   },
   "file_extension": ".py",
   "mimetype": "text/x-python",
   "name": "python",
   "nbconvert_exporter": "python",
   "pygments_lexer": "ipython3",
   "version": "3.9.7"
  }
 },
 "nbformat": 4,
 "nbformat_minor": 5
}
