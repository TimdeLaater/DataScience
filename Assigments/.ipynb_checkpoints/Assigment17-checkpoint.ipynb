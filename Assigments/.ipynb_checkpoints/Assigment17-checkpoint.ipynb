{
 "cells": [
  {
   "cell_type": "code",
   "execution_count": 1,
   "id": "b0acd8d4-9cfd-4de5-a40e-32d94d06b83d",
   "metadata": {},
   "outputs": [],
   "source": [
    "from sklearn.tree import DecisionTreeRegressor"
   ]
  },
  {
   "cell_type": "code",
   "execution_count": 2,
   "id": "22db1ab1-a956-4bd3-bd40-3a662e2378e2",
   "metadata": {},
   "outputs": [],
   "source": [
    "from sklearn.model_selection import train_test_split"
   ]
  },
  {
   "cell_type": "markdown",
   "id": "ae67b2fa-a043-47bc-aeb3-063209adc0b4",
   "metadata": {},
   "source": [
    "## Portfolio assignment 17\n",
    "30 min: Train a decision tree to predict the body_mass_g of a penguin based on their characteristics.\n",
    "- Split the penguin dataset into a train (70%) and test (30%) set.\n",
    "- Use the train set to fit a DecisionTreeRegressor. You are free to to choose which columns you want to use as feature variables and you are also free to choose the max_depth of the tree. \n",
    "<b>Note</b>: Some machine learning algorithms can not handle missing values. You will either need to \n",
    " - replace missing values (with the mean or most popular value). For replacing missing values you can use .fillna(\\<value\\>) https://pandas.pydata.org/docs/reference/api/pandas.Series.fillna.html\n",
    " - remove rows with missing data.  You can remove rows with missing data with .dropna() https://pandas.pydata.org/pandas-docs/stable/reference/api/pandas.DataFrame.dropna.html\n",
    "- Use your decision tree model to make predictions for both the train and test set.\n",
    "- Calculate the RMSE for both the train set predictions and test set predictions.\n",
    "- Is the RMSE different? Did you expect this difference?\n",
    "- Use the plot_tree_regression function above to create a plot of the decision tree. Take a few minutes to analyse the decision tree. Do you understand the tree?"
   ]
  },
  {
   "cell_type": "code",
   "execution_count": 3,
   "id": "8eaa2c84-1499-430c-b211-5a10da2a518c",
   "metadata": {},
   "outputs": [],
   "source": [
    "def calculate_rmse(predictions, actuals):\n",
    "    if(len(predictions) != len(actuals)):\n",
    "        raise Exception(\"The amount of predictions did not equal the amount of actuals\")\n",
    "    \n",
    "    return (((predictions - actuals) ** 2).sum() / len(actuals)) ** (1/2)"
   ]
  },
  {
   "cell_type": "code",
   "execution_count": 4,
   "id": "47aa7c20-7053-46a3-8832-d8169c6533c5",
   "metadata": {},
   "outputs": [],
   "source": [
    "from sklearn import tree\n",
    "import graphviz\n",
    "\n",
    "def plot_tree_regression(model, features):\n",
    "    # Generate plot data\n",
    "    dot_data = tree.export_graphviz(model, out_file=None, \n",
    "                          feature_names=features,  \n",
    "                          filled=True, rounded=True,  \n",
    "                          special_characters=True)  \n",
    "\n",
    "    # Turn into graph using graphviz\n",
    "    graph = graphviz.Source(dot_data)  \n",
    "\n",
    "    # Write out a pdf\n",
    "    graph.render(\"decision_tree\")\n",
    "\n",
    "    # Display in the notebook\n",
    "    return graph "
   ]
  },
  {
   "cell_type": "code",
   "execution_count": 5,
   "id": "c4d7c278-fab4-4dc5-9fbd-b0a36812f05e",
   "metadata": {},
   "outputs": [],
   "source": [
    "import pandas as pd\n",
    "import seaborn as sns"
   ]
  },
  {
   "cell_type": "code",
   "execution_count": 6,
   "id": "f5f4998c-763e-4b41-b435-7c2c4446ce1a",
   "metadata": {},
   "outputs": [],
   "source": [
    "penguins = sns.load_dataset(\"penguins\")\n",
    "PremStats = pd.read_csv(\"../data/EPL_20_21.csv\")\n",
    "penguins = penguins.dropna()\n"
   ]
  },
  {
   "cell_type": "code",
   "execution_count": 7,
   "id": "dd40661a-eccf-4585-b55c-d0727d5842d4",
   "metadata": {},
   "outputs": [
    {
     "name": "stdout",
     "output_type": "stream",
     "text": [
      "(233, 7) (100, 7)\n"
     ]
    }
   ],
   "source": [
    "penguins_train, penguins_test = train_test_split(penguins, test_size=0.3, stratify=penguins['island'], random_state=5)\n",
    "print(penguins_train.shape, penguins_test.shape)"
   ]
  },
  {
   "cell_type": "code",
   "execution_count": 8,
   "id": "48a6703c-c5eb-4266-b290-5eb4313dd334",
   "metadata": {},
   "outputs": [
    {
     "data": {
      "text/plain": [
       "DecisionTreeRegressor(max_depth=3)"
      ]
     },
     "execution_count": 8,
     "metadata": {},
     "output_type": "execute_result"
    }
   ],
   "source": [
    "features= ['bill_length_mm']\n",
    "dt_regression = DecisionTreeRegressor(max_depth = 3) # Increase max_depth to see effect in the plot\n",
    "dt_regression.fit(penguins_train[features], penguins_train['bill_length_mm'])"
   ]
  },
  {
   "cell_type": "code",
   "execution_count": 9,
   "id": "3f11cbd5-88c7-4b7b-909d-728daa6e7ecd",
   "metadata": {},
   "outputs": [
    {
     "name": "stdout",
     "output_type": "stream",
     "text": [
      "RMSE on training set 0.9222501770441042\n",
      "RMSE on test set 0.7816712049209473\n"
     ]
    }
   ],
   "source": [
    "predictionsOnTrainset = dt_regression.predict(penguins_train[features])\n",
    "predictionsOnTestset = dt_regression.predict(penguins_test[features])\n",
    "\n",
    "rmseTrain = calculate_rmse(predictionsOnTrainset, penguins_train.bill_length_mm)\n",
    "rmseTest = calculate_rmse(predictionsOnTestset, penguins_test.bill_length_mm)\n",
    "\n",
    "print(\"RMSE on training set \" + str(rmseTrain))\n",
    "print(\"RMSE on test set \" + str(rmseTest))"
   ]
  },
  {
   "cell_type": "code",
   "execution_count": 10,
   "id": "f23a76e6-a040-47cd-b747-9059283b9f52",
   "metadata": {},
   "outputs": [
    {
     "data": {
      "image/svg+xml": [
       "<?xml version=\"1.0\" encoding=\"UTF-8\" standalone=\"no\"?>\r\n",
       "<!DOCTYPE svg PUBLIC \"-//W3C//DTD SVG 1.1//EN\"\r\n",
       " \"http://www.w3.org/Graphics/SVG/1.1/DTD/svg11.dtd\">\r\n",
       "<!-- Generated by graphviz version 2.38.0 (20140413.2041)\r\n",
       " -->\r\n",
       "<!-- Title: Tree Pages: 1 -->\r\n",
       "<svg width=\"1006pt\" height=\"373pt\"\r\n",
       " viewBox=\"0.00 0.00 1006.00 373.00\" xmlns=\"http://www.w3.org/2000/svg\" xmlns:xlink=\"http://www.w3.org/1999/xlink\">\r\n",
       "<g id=\"graph0\" class=\"graph\" transform=\"scale(1 1) rotate(0) translate(4 369)\">\r\n",
       "<title>Tree</title>\r\n",
       "<polygon fill=\"white\" stroke=\"none\" points=\"-4,4 -4,-369 1002,-369 1002,4 -4,4\"/>\r\n",
       "<!-- 0 -->\r\n",
       "<g id=\"node1\" class=\"node\"><title>0</title>\r\n",
       "<path fill=\"#f4caab\" stroke=\"black\" d=\"M569,-365C569,-365 437,-365 437,-365 431,-365 425,-359 425,-353 425,-353 425,-309 425,-309 425,-303 431,-297 437,-297 437,-297 569,-297 569,-297 575,-297 581,-303 581,-309 581,-309 581,-353 581,-353 581,-359 575,-365 569,-365\"/>\r\n",
       "<text text-anchor=\"start\" x=\"433\" y=\"-349.8\" font-family=\"Helvetica,sans-Serif\" font-size=\"14.00\">bill_length_mm ≤ 43.8</text>\r\n",
       "<text text-anchor=\"start\" x=\"462.5\" y=\"-334.8\" font-family=\"Helvetica,sans-Serif\" font-size=\"14.00\">mse = 29.99</text>\r\n",
       "<text text-anchor=\"start\" x=\"455.5\" y=\"-319.8\" font-family=\"Helvetica,sans-Serif\" font-size=\"14.00\">samples = 233</text>\r\n",
       "<text text-anchor=\"start\" x=\"456\" y=\"-304.8\" font-family=\"Helvetica,sans-Serif\" font-size=\"14.00\">value = 44.066</text>\r\n",
       "</g>\r\n",
       "<!-- 1 -->\r\n",
       "<g id=\"node2\" class=\"node\"><title>1</title>\r\n",
       "<path fill=\"#fae8db\" stroke=\"black\" d=\"M477,-261C477,-261 337,-261 337,-261 331,-261 325,-255 325,-249 325,-249 325,-205 325,-205 325,-199 331,-193 337,-193 337,-193 477,-193 477,-193 483,-193 489,-199 489,-205 489,-205 489,-249 489,-249 489,-255 483,-261 477,-261\"/>\r\n",
       "<text text-anchor=\"start\" x=\"333\" y=\"-245.8\" font-family=\"Helvetica,sans-Serif\" font-size=\"14.00\">bill_length_mm ≤ 38.65</text>\r\n",
       "<text text-anchor=\"start\" x=\"366.5\" y=\"-230.8\" font-family=\"Helvetica,sans-Serif\" font-size=\"14.00\">mse = 6.878</text>\r\n",
       "<text text-anchor=\"start\" x=\"359.5\" y=\"-215.8\" font-family=\"Helvetica,sans-Serif\" font-size=\"14.00\">samples = 111</text>\r\n",
       "<text text-anchor=\"start\" x=\"360\" y=\"-200.8\" font-family=\"Helvetica,sans-Serif\" font-size=\"14.00\">value = 39.083</text>\r\n",
       "</g>\r\n",
       "<!-- 0&#45;&gt;1 -->\r\n",
       "<g id=\"edge1\" class=\"edge\"><title>0&#45;&gt;1</title>\r\n",
       "<path fill=\"none\" stroke=\"black\" d=\"M471.832,-296.884C463.364,-287.887 454.097,-278.041 445.285,-268.678\"/>\r\n",
       "<polygon fill=\"black\" stroke=\"black\" points=\"447.743,-266.183 438.341,-261.299 442.646,-270.98 447.743,-266.183\"/>\r\n",
       "<text text-anchor=\"middle\" x=\"437.583\" y=\"-282.588\" font-family=\"Helvetica,sans-Serif\" font-size=\"14.00\">True</text>\r\n",
       "</g>\r\n",
       "<!-- 8 -->\r\n",
       "<g id=\"node9\" class=\"node\"><title>8</title>\r\n",
       "<path fill=\"#eeae80\" stroke=\"black\" d=\"M665,-261C665,-261 533,-261 533,-261 527,-261 521,-255 521,-249 521,-249 521,-205 521,-205 521,-199 527,-193 533,-193 533,-193 665,-193 665,-193 671,-193 677,-199 677,-205 677,-205 677,-249 677,-249 677,-255 671,-261 665,-261\"/>\r\n",
       "<text text-anchor=\"start\" x=\"529\" y=\"-245.8\" font-family=\"Helvetica,sans-Serif\" font-size=\"14.00\">bill_length_mm ≤ 48.6</text>\r\n",
       "<text text-anchor=\"start\" x=\"558.5\" y=\"-230.8\" font-family=\"Helvetica,sans-Serif\" font-size=\"14.00\">mse = 7.869</text>\r\n",
       "<text text-anchor=\"start\" x=\"551.5\" y=\"-215.8\" font-family=\"Helvetica,sans-Serif\" font-size=\"14.00\">samples = 122</text>\r\n",
       "<text text-anchor=\"start\" x=\"560\" y=\"-200.8\" font-family=\"Helvetica,sans-Serif\" font-size=\"14.00\">value = 48.6</text>\r\n",
       "</g>\r\n",
       "<!-- 0&#45;&gt;8 -->\r\n",
       "<g id=\"edge8\" class=\"edge\"><title>0&#45;&gt;8</title>\r\n",
       "<path fill=\"none\" stroke=\"black\" d=\"M534.168,-296.884C542.636,-287.887 551.903,-278.041 560.715,-268.678\"/>\r\n",
       "<polygon fill=\"black\" stroke=\"black\" points=\"563.354,-270.98 567.659,-261.299 558.257,-266.183 563.354,-270.98\"/>\r\n",
       "<text text-anchor=\"middle\" x=\"568.417\" y=\"-282.588\" font-family=\"Helvetica,sans-Serif\" font-size=\"14.00\">False</text>\r\n",
       "</g>\r\n",
       "<!-- 2 -->\r\n",
       "<g id=\"node3\" class=\"node\"><title>2</title>\r\n",
       "<path fill=\"#fef8f4\" stroke=\"black\" d=\"M253,-157C253,-157 113,-157 113,-157 107,-157 101,-151 101,-145 101,-145 101,-101 101,-101 101,-95 107,-89 113,-89 113,-89 253,-89 253,-89 259,-89 265,-95 265,-101 265,-101 265,-145 265,-145 265,-151 259,-157 253,-157\"/>\r\n",
       "<text text-anchor=\"start\" x=\"109\" y=\"-141.8\" font-family=\"Helvetica,sans-Serif\" font-size=\"14.00\">bill_length_mm ≤ 36.45</text>\r\n",
       "<text text-anchor=\"start\" x=\"142.5\" y=\"-126.8\" font-family=\"Helvetica,sans-Serif\" font-size=\"14.00\">mse = 2.166</text>\r\n",
       "<text text-anchor=\"start\" x=\"139.5\" y=\"-111.8\" font-family=\"Helvetica,sans-Serif\" font-size=\"14.00\">samples = 45</text>\r\n",
       "<text text-anchor=\"start\" x=\"136\" y=\"-96.8\" font-family=\"Helvetica,sans-Serif\" font-size=\"14.00\">value = 36.429</text>\r\n",
       "</g>\r\n",
       "<!-- 1&#45;&gt;2 -->\r\n",
       "<g id=\"edge2\" class=\"edge\"><title>1&#45;&gt;2</title>\r\n",
       "<path fill=\"none\" stroke=\"black\" d=\"M334.274,-192.884C312.155,-182.812 287.696,-171.674 265.01,-161.344\"/>\r\n",
       "<polygon fill=\"black\" stroke=\"black\" points=\"266.296,-158.084 255.745,-157.125 263.395,-164.454 266.296,-158.084\"/>\r\n",
       "</g>\r\n",
       "<!-- 5 -->\r\n",
       "<g id=\"node6\" class=\"node\"><title>5</title>\r\n",
       "<path fill=\"#f8ddca\" stroke=\"black\" d=\"M473,-157C473,-157 341,-157 341,-157 335,-157 329,-151 329,-145 329,-145 329,-101 329,-101 329,-95 335,-89 341,-89 341,-89 473,-89 473,-89 479,-89 485,-95 485,-101 485,-101 485,-145 485,-145 485,-151 479,-157 473,-157\"/>\r\n",
       "<text text-anchor=\"start\" x=\"337\" y=\"-141.8\" font-family=\"Helvetica,sans-Serif\" font-size=\"14.00\">bill_length_mm ≤ 41.2</text>\r\n",
       "<text text-anchor=\"start\" x=\"366.5\" y=\"-126.8\" font-family=\"Helvetica,sans-Serif\" font-size=\"14.00\">mse = 2.013</text>\r\n",
       "<text text-anchor=\"start\" x=\"363.5\" y=\"-111.8\" font-family=\"Helvetica,sans-Serif\" font-size=\"14.00\">samples = 66</text>\r\n",
       "<text text-anchor=\"start\" x=\"360\" y=\"-96.8\" font-family=\"Helvetica,sans-Serif\" font-size=\"14.00\">value = 40.892</text>\r\n",
       "</g>\r\n",
       "<!-- 1&#45;&gt;5 -->\r\n",
       "<g id=\"edge5\" class=\"edge\"><title>1&#45;&gt;5</title>\r\n",
       "<path fill=\"none\" stroke=\"black\" d=\"M407,-192.884C407,-184.778 407,-175.982 407,-167.472\"/>\r\n",
       "<polygon fill=\"black\" stroke=\"black\" points=\"410.5,-167.299 407,-157.299 403.5,-167.299 410.5,-167.299\"/>\r\n",
       "</g>\r\n",
       "<!-- 3 -->\r\n",
       "<g id=\"node4\" class=\"node\"><title>3</title>\r\n",
       "<path fill=\"#ffffff\" stroke=\"black\" d=\"M98,-53C98,-53 12,-53 12,-53 6,-53 0,-47 0,-41 0,-41 0,-12 0,-12 0,-6 6,-0 12,-0 12,-0 98,-0 98,-0 104,-0 110,-6 110,-12 110,-12 110,-41 110,-41 110,-47 104,-53 98,-53\"/>\r\n",
       "<text text-anchor=\"start\" x=\"14.5\" y=\"-37.8\" font-family=\"Helvetica,sans-Serif\" font-size=\"14.00\">mse = 1.144</text>\r\n",
       "<text text-anchor=\"start\" x=\"11.5\" y=\"-22.8\" font-family=\"Helvetica,sans-Serif\" font-size=\"14.00\">samples = 23</text>\r\n",
       "<text text-anchor=\"start\" x=\"8\" y=\"-7.8\" font-family=\"Helvetica,sans-Serif\" font-size=\"14.00\">value = 35.278</text>\r\n",
       "</g>\r\n",
       "<!-- 2&#45;&gt;3 -->\r\n",
       "<g id=\"edge3\" class=\"edge\"><title>2&#45;&gt;3</title>\r\n",
       "<path fill=\"none\" stroke=\"black\" d=\"M138.232,-88.9485C125.221,-79.3431 111.042,-68.8747 98.134,-59.345\"/>\r\n",
       "<polygon fill=\"black\" stroke=\"black\" points=\"99.9842,-56.3605 89.8603,-53.2367 95.8265,-61.992 99.9842,-56.3605\"/>\r\n",
       "</g>\r\n",
       "<!-- 4 -->\r\n",
       "<g id=\"node5\" class=\"node\"><title>4</title>\r\n",
       "<path fill=\"#fcf1e9\" stroke=\"black\" d=\"M226,-53C226,-53 140,-53 140,-53 134,-53 128,-47 128,-41 128,-41 128,-12 128,-12 128,-6 134,-0 140,-0 140,-0 226,-0 226,-0 232,-0 238,-6 238,-12 238,-12 238,-41 238,-41 238,-47 232,-53 226,-53\"/>\r\n",
       "<text text-anchor=\"start\" x=\"142.5\" y=\"-37.8\" font-family=\"Helvetica,sans-Serif\" font-size=\"14.00\">mse = 0.404</text>\r\n",
       "<text text-anchor=\"start\" x=\"139.5\" y=\"-22.8\" font-family=\"Helvetica,sans-Serif\" font-size=\"14.00\">samples = 22</text>\r\n",
       "<text text-anchor=\"start\" x=\"136\" y=\"-7.8\" font-family=\"Helvetica,sans-Serif\" font-size=\"14.00\">value = 37.632</text>\r\n",
       "</g>\r\n",
       "<!-- 2&#45;&gt;4 -->\r\n",
       "<g id=\"edge4\" class=\"edge\"><title>2&#45;&gt;4</title>\r\n",
       "<path fill=\"none\" stroke=\"black\" d=\"M183,-88.9485C183,-80.7153 183,-71.848 183,-63.4814\"/>\r\n",
       "<polygon fill=\"black\" stroke=\"black\" points=\"186.5,-63.2367 183,-53.2367 179.5,-63.2367 186.5,-63.2367\"/>\r\n",
       "</g>\r\n",
       "<!-- 6 -->\r\n",
       "<g id=\"node7\" class=\"node\"><title>6</title>\r\n",
       "<path fill=\"#f9e2d2\" stroke=\"black\" d=\"M354,-53C354,-53 268,-53 268,-53 262,-53 256,-47 256,-41 256,-41 256,-12 256,-12 256,-6 262,-0 268,-0 268,-0 354,-0 354,-0 360,-0 366,-6 366,-12 366,-12 366,-41 366,-41 366,-47 360,-53 354,-53\"/>\r\n",
       "<text text-anchor=\"start\" x=\"274.5\" y=\"-37.8\" font-family=\"Helvetica,sans-Serif\" font-size=\"14.00\">mse = 0.63</text>\r\n",
       "<text text-anchor=\"start\" x=\"267.5\" y=\"-22.8\" font-family=\"Helvetica,sans-Serif\" font-size=\"14.00\">samples = 42</text>\r\n",
       "<text text-anchor=\"start\" x=\"264\" y=\"-7.8\" font-family=\"Helvetica,sans-Serif\" font-size=\"14.00\">value = 39.988</text>\r\n",
       "</g>\r\n",
       "<!-- 5&#45;&gt;6 -->\r\n",
       "<g id=\"edge6\" class=\"edge\"><title>5&#45;&gt;6</title>\r\n",
       "<path fill=\"none\" stroke=\"black\" d=\"M373.424,-88.9485C364.038,-79.709 353.84,-69.671 344.461,-60.4381\"/>\r\n",
       "<polygon fill=\"black\" stroke=\"black\" points=\"346.727,-57.7576 337.145,-53.2367 341.816,-62.7462 346.727,-57.7576\"/>\r\n",
       "</g>\r\n",
       "<!-- 7 -->\r\n",
       "<g id=\"node8\" class=\"node\"><title>7</title>\r\n",
       "<path fill=\"#f6d3ba\" stroke=\"black\" d=\"M482,-53C482,-53 396,-53 396,-53 390,-53 384,-47 384,-41 384,-41 384,-12 384,-12 384,-6 390,-0 396,-0 396,-0 482,-0 482,-0 488,-0 494,-6 494,-12 494,-12 494,-41 494,-41 494,-47 488,-53 482,-53\"/>\r\n",
       "<text text-anchor=\"start\" x=\"398.5\" y=\"-37.8\" font-family=\"Helvetica,sans-Serif\" font-size=\"14.00\">mse = 0.497</text>\r\n",
       "<text text-anchor=\"start\" x=\"395.5\" y=\"-22.8\" font-family=\"Helvetica,sans-Serif\" font-size=\"14.00\">samples = 24</text>\r\n",
       "<text text-anchor=\"start\" x=\"392\" y=\"-7.8\" font-family=\"Helvetica,sans-Serif\" font-size=\"14.00\">value = 42.475</text>\r\n",
       "</g>\r\n",
       "<!-- 5&#45;&gt;7 -->\r\n",
       "<g id=\"edge7\" class=\"edge\"><title>5&#45;&gt;7</title>\r\n",
       "<path fill=\"none\" stroke=\"black\" d=\"M418.192,-88.9485C421.042,-80.5323 424.116,-71.4536 427.004,-62.9243\"/>\r\n",
       "<polygon fill=\"black\" stroke=\"black\" points=\"430.393,-63.831 430.285,-53.2367 423.762,-61.5858 430.393,-63.831\"/>\r\n",
       "</g>\r\n",
       "<!-- 9 -->\r\n",
       "<g id=\"node10\" class=\"node\"><title>9</title>\r\n",
       "<path fill=\"#f1bc95\" stroke=\"black\" d=\"M665,-157C665,-157 533,-157 533,-157 527,-157 521,-151 521,-145 521,-145 521,-101 521,-101 521,-95 527,-89 533,-89 533,-89 665,-89 665,-89 671,-89 677,-95 677,-101 677,-101 677,-145 677,-145 677,-151 671,-157 665,-157\"/>\r\n",
       "<text text-anchor=\"start\" x=\"529\" y=\"-141.8\" font-family=\"Helvetica,sans-Serif\" font-size=\"14.00\">bill_length_mm ≤ 46.3</text>\r\n",
       "<text text-anchor=\"start\" x=\"558.5\" y=\"-126.8\" font-family=\"Helvetica,sans-Serif\" font-size=\"14.00\">mse = 1.479</text>\r\n",
       "<text text-anchor=\"start\" x=\"555.5\" y=\"-111.8\" font-family=\"Helvetica,sans-Serif\" font-size=\"14.00\">samples = 62</text>\r\n",
       "<text text-anchor=\"start\" x=\"552\" y=\"-96.8\" font-family=\"Helvetica,sans-Serif\" font-size=\"14.00\">value = 46.371</text>\r\n",
       "</g>\r\n",
       "<!-- 8&#45;&gt;9 -->\r\n",
       "<g id=\"edge9\" class=\"edge\"><title>8&#45;&gt;9</title>\r\n",
       "<path fill=\"none\" stroke=\"black\" d=\"M599,-192.884C599,-184.778 599,-175.982 599,-167.472\"/>\r\n",
       "<polygon fill=\"black\" stroke=\"black\" points=\"602.5,-167.299 599,-157.299 595.5,-167.299 602.5,-167.299\"/>\r\n",
       "</g>\r\n",
       "<!-- 12 -->\r\n",
       "<g id=\"node13\" class=\"node\"><title>12</title>\r\n",
       "<path fill=\"#eba06a\" stroke=\"black\" d=\"M893,-157C893,-157 753,-157 753,-157 747,-157 741,-151 741,-145 741,-145 741,-101 741,-101 741,-95 747,-89 753,-89 753,-89 893,-89 893,-89 899,-89 905,-95 905,-101 905,-101 905,-145 905,-145 905,-151 899,-157 893,-157\"/>\r\n",
       "<text text-anchor=\"start\" x=\"749\" y=\"-141.8\" font-family=\"Helvetica,sans-Serif\" font-size=\"14.00\">bill_length_mm ≤ 53.15</text>\r\n",
       "<text text-anchor=\"start\" x=\"782.5\" y=\"-126.8\" font-family=\"Helvetica,sans-Serif\" font-size=\"14.00\">mse = 4.032</text>\r\n",
       "<text text-anchor=\"start\" x=\"779.5\" y=\"-111.8\" font-family=\"Helvetica,sans-Serif\" font-size=\"14.00\">samples = 60</text>\r\n",
       "<text text-anchor=\"start\" x=\"776\" y=\"-96.8\" font-family=\"Helvetica,sans-Serif\" font-size=\"14.00\">value = 50.903</text>\r\n",
       "</g>\r\n",
       "<!-- 8&#45;&gt;12 -->\r\n",
       "<g id=\"edge12\" class=\"edge\"><title>8&#45;&gt;12</title>\r\n",
       "<path fill=\"none\" stroke=\"black\" d=\"M671.726,-192.884C693.845,-182.812 718.304,-171.674 740.99,-161.344\"/>\r\n",
       "<polygon fill=\"black\" stroke=\"black\" points=\"742.605,-164.454 750.255,-157.125 739.704,-158.084 742.605,-164.454\"/>\r\n",
       "</g>\r\n",
       "<!-- 10 -->\r\n",
       "<g id=\"node11\" class=\"node\"><title>10</title>\r\n",
       "<path fill=\"#f2c2a0\" stroke=\"black\" d=\"M610,-53C610,-53 524,-53 524,-53 518,-53 512,-47 512,-41 512,-41 512,-12 512,-12 512,-6 518,-0 524,-0 524,-0 610,-0 610,-0 616,-0 622,-6 622,-12 622,-12 622,-41 622,-41 622,-47 616,-53 610,-53\"/>\r\n",
       "<text text-anchor=\"start\" x=\"530.5\" y=\"-37.8\" font-family=\"Helvetica,sans-Serif\" font-size=\"14.00\">mse = 0.34</text>\r\n",
       "<text text-anchor=\"start\" x=\"523.5\" y=\"-22.8\" font-family=\"Helvetica,sans-Serif\" font-size=\"14.00\">samples = 29</text>\r\n",
       "<text text-anchor=\"start\" x=\"520\" y=\"-7.8\" font-family=\"Helvetica,sans-Serif\" font-size=\"14.00\">value = 45.297</text>\r\n",
       "</g>\r\n",
       "<!-- 9&#45;&gt;10 -->\r\n",
       "<g id=\"edge10\" class=\"edge\"><title>9&#45;&gt;10</title>\r\n",
       "<path fill=\"none\" stroke=\"black\" d=\"M587.808,-88.9485C584.958,-80.5323 581.884,-71.4536 578.996,-62.9243\"/>\r\n",
       "<polygon fill=\"black\" stroke=\"black\" points=\"582.238,-61.5858 575.715,-53.2367 575.607,-63.831 582.238,-61.5858\"/>\r\n",
       "</g>\r\n",
       "<!-- 11 -->\r\n",
       "<g id=\"node12\" class=\"node\"><title>11</title>\r\n",
       "<path fill=\"#f0b68c\" stroke=\"black\" d=\"M738,-53C738,-53 652,-53 652,-53 646,-53 640,-47 640,-41 640,-41 640,-12 640,-12 640,-6 646,-0 652,-0 652,-0 738,-0 738,-0 744,-0 750,-6 750,-12 750,-12 750,-41 750,-41 750,-47 744,-53 738,-53\"/>\r\n",
       "<text text-anchor=\"start\" x=\"654.5\" y=\"-37.8\" font-family=\"Helvetica,sans-Serif\" font-size=\"14.00\">mse = 0.575</text>\r\n",
       "<text text-anchor=\"start\" x=\"651.5\" y=\"-22.8\" font-family=\"Helvetica,sans-Serif\" font-size=\"14.00\">samples = 33</text>\r\n",
       "<text text-anchor=\"start\" x=\"648\" y=\"-7.8\" font-family=\"Helvetica,sans-Serif\" font-size=\"14.00\">value = 47.315</text>\r\n",
       "</g>\r\n",
       "<!-- 9&#45;&gt;11 -->\r\n",
       "<g id=\"edge11\" class=\"edge\"><title>9&#45;&gt;11</title>\r\n",
       "<path fill=\"none\" stroke=\"black\" d=\"M632.576,-88.9485C641.962,-79.709 652.16,-69.671 661.539,-60.4381\"/>\r\n",
       "<polygon fill=\"black\" stroke=\"black\" points=\"664.184,-62.7462 668.855,-53.2367 659.273,-57.7576 664.184,-62.7462\"/>\r\n",
       "</g>\r\n",
       "<!-- 13 -->\r\n",
       "<g id=\"node14\" class=\"node\"><title>13</title>\r\n",
       "<path fill=\"#eca36f\" stroke=\"black\" d=\"M866,-53C866,-53 780,-53 780,-53 774,-53 768,-47 768,-41 768,-41 768,-12 768,-12 768,-6 774,-0 780,-0 780,-0 866,-0 866,-0 872,-0 878,-6 878,-12 878,-12 878,-41 878,-41 878,-47 872,-53 866,-53\"/>\r\n",
       "<text text-anchor=\"start\" x=\"782.5\" y=\"-37.8\" font-family=\"Helvetica,sans-Serif\" font-size=\"14.00\">mse = 1.246</text>\r\n",
       "<text text-anchor=\"start\" x=\"779.5\" y=\"-22.8\" font-family=\"Helvetica,sans-Serif\" font-size=\"14.00\">samples = 55</text>\r\n",
       "<text text-anchor=\"start\" x=\"776\" y=\"-7.8\" font-family=\"Helvetica,sans-Serif\" font-size=\"14.00\">value = 50.433</text>\r\n",
       "</g>\r\n",
       "<!-- 12&#45;&gt;13 -->\r\n",
       "<g id=\"edge13\" class=\"edge\"><title>12&#45;&gt;13</title>\r\n",
       "<path fill=\"none\" stroke=\"black\" d=\"M823,-88.9485C823,-80.7153 823,-71.848 823,-63.4814\"/>\r\n",
       "<polygon fill=\"black\" stroke=\"black\" points=\"826.5,-63.2367 823,-53.2367 819.5,-63.2367 826.5,-63.2367\"/>\r\n",
       "</g>\r\n",
       "<!-- 14 -->\r\n",
       "<g id=\"node15\" class=\"node\"><title>14</title>\r\n",
       "<path fill=\"#e58139\" stroke=\"black\" d=\"M986,-53C986,-53 908,-53 908,-53 902,-53 896,-47 896,-41 896,-41 896,-12 896,-12 896,-6 902,-0 908,-0 908,-0 986,-0 986,-0 992,-0 998,-6 998,-12 998,-12 998,-41 998,-41 998,-47 992,-53 986,-53\"/>\r\n",
       "<text text-anchor=\"start\" x=\"906.5\" y=\"-37.8\" font-family=\"Helvetica,sans-Serif\" font-size=\"14.00\">mse = 5.446</text>\r\n",
       "<text text-anchor=\"start\" x=\"907.5\" y=\"-22.8\" font-family=\"Helvetica,sans-Serif\" font-size=\"14.00\">samples = 5</text>\r\n",
       "<text text-anchor=\"start\" x=\"904\" y=\"-7.8\" font-family=\"Helvetica,sans-Serif\" font-size=\"14.00\">value = 56.08</text>\r\n",
       "</g>\r\n",
       "<!-- 12&#45;&gt;14 -->\r\n",
       "<g id=\"edge14\" class=\"edge\"><title>12&#45;&gt;14</title>\r\n",
       "<path fill=\"none\" stroke=\"black\" d=\"M866.369,-88.9485C878.973,-79.3431 892.709,-68.8747 905.214,-59.345\"/>\r\n",
       "<polygon fill=\"black\" stroke=\"black\" points=\"907.397,-62.0819 913.229,-53.2367 903.154,-56.5144 907.397,-62.0819\"/>\r\n",
       "</g>\r\n",
       "</g>\r\n",
       "</svg>\r\n"
      ],
      "text/plain": [
       "<graphviz.files.Source at 0x23a518adf70>"
      ]
     },
     "execution_count": 10,
     "metadata": {},
     "output_type": "execute_result"
    }
   ],
   "source": [
    "plot_tree_regression(dt_regression, features)"
   ]
  }
 ],
 "metadata": {
  "kernelspec": {
   "display_name": "Python 3 (ipykernel)",
   "language": "python",
   "name": "python3"
  },
  "language_info": {
   "codemirror_mode": {
    "name": "ipython",
    "version": 3
   },
   "file_extension": ".py",
   "mimetype": "text/x-python",
   "name": "python",
   "nbconvert_exporter": "python",
   "pygments_lexer": "ipython3",
   "version": "3.9.7"
  }
 },
 "nbformat": 4,
 "nbformat_minor": 5
}
